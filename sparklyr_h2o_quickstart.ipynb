{
 "cells": [
  {
   "cell_type": "code",
   "execution_count": null,
   "id": "ethical-approval",
   "metadata": {},
   "outputs": [],
   "source": [
    "library(parallel)\n",
    "detectCores()"
   ]
  },
  {
   "cell_type": "code",
   "execution_count": null,
   "id": "embedded-couple",
   "metadata": {},
   "outputs": [],
   "source": [
    "library(sparklyr)"
   ]
  },
  {
   "cell_type": "code",
   "execution_count": null,
   "id": "passive-smart",
   "metadata": {},
   "outputs": [],
   "source": [
    "sc <- spark_connect(master = \"local\")"
   ]
  },
  {
   "cell_type": "code",
   "execution_count": null,
   "id": "distinct-danish",
   "metadata": {},
   "outputs": [],
   "source": [
    "sc"
   ]
  },
  {
   "cell_type": "code",
   "execution_count": null,
   "id": "green-interpretation",
   "metadata": {},
   "outputs": [],
   "source": [
    "library(dplyr)\n",
    "iris_tbl <- copy_to(sc, iris)"
   ]
  },
  {
   "cell_type": "code",
   "execution_count": null,
   "id": "abandoned-battlefield",
   "metadata": {},
   "outputs": [],
   "source": [
    "iris_tbl\n",
    "sdf_nrow(iris_tbl)"
   ]
  },
  {
   "cell_type": "code",
   "execution_count": null,
   "id": "average-hunter",
   "metadata": {},
   "outputs": [],
   "source": [
    "cars_tbl <- copy_to(sc, cars, \"cars\")"
   ]
  },
  {
   "cell_type": "code",
   "execution_count": null,
   "id": "overall-former",
   "metadata": {},
   "outputs": [],
   "source": [
    "cars_tbl"
   ]
  },
  {
   "cell_type": "code",
   "execution_count": null,
   "id": "personal-eleven",
   "metadata": {},
   "outputs": [],
   "source": [
    "sdf_nrow(cars_tbl)"
   ]
  },
  {
   "cell_type": "code",
   "execution_count": null,
   "id": "intense-steering",
   "metadata": {},
   "outputs": [],
   "source": [
    "batting_tbl <- copy_to(sc, Lahman::Batting, \"batting\")"
   ]
  },
  {
   "cell_type": "code",
   "execution_count": null,
   "id": "graphic-destiny",
   "metadata": {},
   "outputs": [],
   "source": [
    "sdf_nrow(batting_tbl)"
   ]
  },
  {
   "cell_type": "code",
   "execution_count": null,
   "id": "excited-moral",
   "metadata": {},
   "outputs": [],
   "source": [
    "dplyr::src_tbls(sc)"
   ]
  },
  {
   "cell_type": "code",
   "execution_count": null,
   "id": "prescribed-guatemala",
   "metadata": {},
   "outputs": [],
   "source": [
    "flights_tbl <- copy_to(sc, nycflights13::flights, \"flights\", overwrite=TRUE)"
   ]
  },
  {
   "cell_type": "code",
   "execution_count": null,
   "id": "timely-central",
   "metadata": {},
   "outputs": [],
   "source": [
    "sdf_nrow(flights_tbl)"
   ]
  },
  {
   "cell_type": "code",
   "execution_count": 1,
   "id": "broke-birthday",
   "metadata": {},
   "outputs": [
    {
     "name": "stderr",
     "output_type": "stream",
     "text": [
      "\n",
      "----------------------------------------------------------------------\n",
      "\n",
      "Your next step is to start H2O:\n",
      "    > h2o.init()\n",
      "\n",
      "For H2O package documentation, ask for help:\n",
      "    > ??h2o\n",
      "\n",
      "After starting H2O, you can use the Web UI at http://localhost:54321\n",
      "For more information visit https://docs.h2o.ai\n",
      "\n",
      "----------------------------------------------------------------------\n",
      "\n",
      "\n",
      "\n",
      "Attaching package: ‘h2o’\n",
      "\n",
      "\n",
      "The following objects are masked from ‘package:stats’:\n",
      "\n",
      "    cor, sd, var\n",
      "\n",
      "\n",
      "The following objects are masked from ‘package:base’:\n",
      "\n",
      "    &&, %*%, %in%, ||, apply, as.factor, as.numeric, colnames,\n",
      "    colnames<-, ifelse, is.character, is.factor, is.numeric, log,\n",
      "    log10, log1p, log2, round, signif, trunc\n",
      "\n",
      "\n"
     ]
    }
   ],
   "source": [
    "# library(rsparkling)\n",
    "# library(sparklyr)\n",
    "# library(dplyr)\n",
    "library(h2o)"
   ]
  },
  {
   "cell_type": "code",
   "execution_count": 2,
   "id": "competent-arrangement",
   "metadata": {},
   "outputs": [
    {
     "data": {
      "text/html": [
       "72"
      ],
      "text/latex": [
       "72"
      ],
      "text/markdown": [
       "72"
      ],
      "text/plain": [
       "[1] 72"
      ]
     },
     "metadata": {},
     "output_type": "display_data"
    },
    {
     "name": "stdout",
     "output_type": "stream",
     "text": [
      " Connection successful!\n",
      "\n",
      "R is connected to the H2O cluster: \n",
      "    H2O cluster uptime:         4 minutes 5 seconds \n",
      "    H2O cluster timezone:       Etc/GMT \n",
      "    H2O data parsing timezone:  UTC \n",
      "    H2O cluster version:        3.32.1.3 \n",
      "    H2O cluster version age:    1 month and 18 days  \n",
      "    H2O cluster name:           H2O_started_from_R_jovyan_hbo389 \n",
      "    H2O cluster total nodes:    1 \n",
      "    H2O cluster total memory:   3.55 GB \n",
      "    H2O cluster total cores:    2 \n",
      "    H2O cluster allowed cores:  72 \n",
      "    H2O cluster healthy:        TRUE \n",
      "    H2O Connection ip:          localhost \n",
      "    H2O Connection port:        54321 \n",
      "    H2O Connection proxy:       NA \n",
      "    H2O Internal Security:      FALSE \n",
      "    H2O API Extensions:         Amazon S3, XGBoost, Algos, AutoML, Core V3, TargetEncoder, Core V4 \n",
      "    R Version:                  R version 3.6.3 (2020-02-29) \n",
      "\n"
     ]
    }
   ],
   "source": [
    "library(parallel)\n",
    "detectCores()\n",
    "h2o.init(nthreads= 72, max_mem_size =\"4g\")"
   ]
  },
  {
   "cell_type": "code",
   "execution_count": null,
   "id": "desirable-christianity",
   "metadata": {},
   "outputs": [],
   "source": [
    "# h2o.shutdown()"
   ]
  },
  {
   "cell_type": "code",
   "execution_count": 7,
   "id": "civic-packaging",
   "metadata": {},
   "outputs": [],
   "source": [
    "airlinesURL = \"https://s3.amazonaws.com/h2o-airlines-unpacked/allyears2k.csv\""
   ]
  },
  {
   "cell_type": "code",
   "execution_count": 8,
   "id": "brief-rescue",
   "metadata": {},
   "outputs": [
    {
     "name": "stdout",
     "output_type": "stream",
     "text": [
      "  |======================================================================| 100%\n"
     ]
    }
   ],
   "source": [
    "airlines.hex = h2o.importFile(path = airlinesURL, destination_frame = \"airlines.hex\")"
   ]
  },
  {
   "cell_type": "code",
   "execution_count": 10,
   "id": "major-mistress",
   "metadata": {},
   "outputs": [
    {
     "name": "stderr",
     "output_type": "stream",
     "text": [
      "Warning message in summary.H2OFrame(airlines.hex):\n",
      "“Approximated quantiles computed! If you are interested in exact quantiles, please pass the `exact_quantiles=TRUE` parameter.”\n"
     ]
    },
    {
     "data": {
      "text/plain": [
       " Year           Month            DayofMonth     DayOfWeek      \n",
       " Min.   :1987   Min.   : 1.000   Min.   : 1.0   Min.   :1.000  \n",
       " 1st Qu.:1992   1st Qu.: 1.000   1st Qu.: 6.0   1st Qu.:2.000  \n",
       " Median :1998   Median : 1.000   Median :14.0   Median :4.000  \n",
       " Mean   :1998   Mean   : 1.409   Mean   :14.6   Mean   :3.821  \n",
       " 3rd Qu.:2003   3rd Qu.: 1.000   3rd Qu.:23.0   3rd Qu.:5.000  \n",
       " Max.   :2008   Max.   :10.000   Max.   :31.0   Max.   :7.000  \n",
       "                                                               \n",
       " DepTime          CRSDepTime       ArrTime        CRSArrTime     UniqueCarrier\n",
       " Min.   :   1.0   Min.   :   0.0   Min.   :   1   Min.   :   0   US:18729     \n",
       " 1st Qu.: 927.4   1st Qu.: 908.6   1st Qu.:1117   1st Qu.:1107   UA: 9434     \n",
       " Median :1328.2   Median :1319.2   Median :1525   Median :1515   WN: 6170     \n",
       " Mean   :1345.8   Mean   :1313.2   Mean   :1505   Mean   :1485   HP: 3451     \n",
       " 3rd Qu.:1733.8   3rd Qu.:1718.1   3rd Qu.:1916   3rd Qu.:1902   PS: 3212     \n",
       " Max.   :2400.0   Max.   :2359.0   Max.   :2400   Max.   :2359   DL:  935     \n",
       " NA's   :1086                      NA's   :1195                               \n",
       " FlightNum        TailNum                 ActualElapsedTime CRSElapsedTime\n",
       " Min.   :   1.0   UNKNOW          :  179  Min.   : 16.0     Min.   : 17   \n",
       " 1st Qu.: 202.4   000000          :  124  1st Qu.: 71.0     1st Qu.: 71   \n",
       " Median : 553.9   <0xE4>NKNO<0xE6>:  114  Median :101.0     Median :102   \n",
       " Mean   : 818.8   0               :   66  Mean   :124.8     Mean   :125   \n",
       " 3rd Qu.:1241.0   N912UA          :   59  3rd Qu.:151.0     3rd Qu.:151   \n",
       " Max.   :3949.0   N316AW          :   56  Max.   :475.0     Max.   :437   \n",
       "                  NA              :16024  NA's   :1195      NA's   :13    \n",
       " AirTime         ArrDelay          DepDelay         Origin    Dest     \n",
       " Min.   : 14.0   Min.   :-63.000   Min.   :-16.00   DEN:3558  PHX:9317 \n",
       " 1st Qu.: 61.0   1st Qu.: -6.000   1st Qu.: -2.00   PIT:3241  PHL:4482 \n",
       " Median : 91.0   Median :  2.000   Median :  1.00   ORD:2246  PIT:3020 \n",
       " Mean   :114.3   Mean   :  9.317   Mean   : 10.01   BUR:2021  ORD:2103 \n",
       " 3rd Qu.:140.0   3rd Qu.: 14.000   3rd Qu.: 10.00   CLT:1781  CLT:1542 \n",
       " Max.   :402.0   Max.   :475.000   Max.   :473.00   PHL:1632  DEN:1470 \n",
       " NA's   :16649   NA's   :1195      NA's   :1086                        \n",
       " Distance         TaxiIn            TaxiOut          Cancelled        \n",
       " Min.   :  11.0   Min.   :  0.000   Min.   :  0.00   Min.   :0.00000  \n",
       " 1st Qu.: 323.0   1st Qu.:  3.000   1st Qu.:  9.00   1st Qu.:0.00000  \n",
       " Median : 537.7   Median :  5.000   Median : 12.00   Median :0.00000  \n",
       " Mean   : 730.2   Mean   :  5.381   Mean   : 14.17   Mean   :0.02469  \n",
       " 3rd Qu.: 916.9   3rd Qu.:  6.000   3rd Qu.: 16.00   3rd Qu.:0.00000  \n",
       " Max.   :3365.0   Max.   :128.000   Max.   :254.00   Max.   :1.00000  \n",
       " NA's   :35       NA's   :16026     NA's   :16024                     \n",
       " CancellationCode Diverted           CarrierDelay      WeatherDelay      \n",
       " B :   93         Min.   :0.000000   Min.   :  0.000   Min.   :  0.0000  \n",
       " A :   81         1st Qu.:0.000000   1st Qu.:  0.000   1st Qu.:  0.0000  \n",
       " C :   47         Median :0.000000   Median :  0.000   Median :  0.0000  \n",
       " NA:43757         Mean   :0.002479   Mean   :  4.048   Mean   :  0.2894  \n",
       "                  3rd Qu.:0.000000   3rd Qu.:  0.000   3rd Qu.:  0.0000  \n",
       "                  Max.   :1.000000   Max.   :369.000   Max.   :201.0000  \n",
       "                                     NA's   :35045     NA's   :35045     \n",
       " NASDelay          SecurityDelay      LateAircraftDelay IsArrDelayed\n",
       " Min.   :  0.000   Min.   : 0.00000   Min.   :  0.00    YES:24441   \n",
       " 1st Qu.:  0.000   1st Qu.: 0.00000   1st Qu.:  0.00    NO :19537   \n",
       " Median :  0.000   Median : 0.00000   Median :  0.00                \n",
       " Mean   :  4.855   Mean   : 0.01702   Mean   :  7.62                \n",
       " 3rd Qu.:  0.000   3rd Qu.: 0.00000   3rd Qu.:  0.00                \n",
       " Max.   :323.000   Max.   :14.00000   Max.   :373.00                \n",
       " NA's   :35045     NA's   :35045      NA's   :35045                 \n",
       " IsDepDelayed\n",
       " YES:23091   \n",
       " NO :20887   \n",
       "             \n",
       "             \n",
       "             \n",
       "             \n",
       "             "
      ]
     },
     "metadata": {},
     "output_type": "display_data"
    },
    {
     "data": {
      "text/html": [
       "43978"
      ],
      "text/latex": [
       "43978"
      ],
      "text/markdown": [
       "43978"
      ],
      "text/plain": [
       "[1] 43978"
      ]
     },
     "metadata": {},
     "output_type": "display_data"
    }
   ],
   "source": [
    "summary(airlines.hex)\n",
    "nrow(airlines.hex)"
   ]
  },
  {
   "cell_type": "code",
   "execution_count": 11,
   "id": "psychological-disposition",
   "metadata": {
    "scrolled": true
   },
   "outputs": [
    {
     "data": {
      "text/html": [
       "<style>\n",
       ".dl-inline {width: auto; margin:0; padding: 0}\n",
       ".dl-inline>dt, .dl-inline>dd {float: none; width: auto; display: inline-block}\n",
       ".dl-inline>dt::after {content: \":\\0020\"; padding-right: .5ex}\n",
       ".dl-inline>dt:not(:first-of-type) {padding-left: .5ex}\n",
       "</style><dl class=dl-inline><dt>0.1%</dt><dd>-39</dd><dt>1%</dt><dd>-26</dd><dt>10%</dt><dd>-13</dd><dt>25%</dt><dd>-6</dd><dt>33.3%</dt><dd>-3</dd><dt>50%</dt><dd>2</dd><dt>66.7%</dt><dd>9</dd><dt>75%</dt><dd>14</dd><dt>90%</dt><dd>37</dd><dt>99%</dt><dd>132</dd><dt>99.9%</dt><dd>277.217999999999</dd></dl>\n"
      ],
      "text/latex": [
       "\\begin{description*}\n",
       "\\item[0.1\\textbackslash{}\\%] -39\n",
       "\\item[1\\textbackslash{}\\%] -26\n",
       "\\item[10\\textbackslash{}\\%] -13\n",
       "\\item[25\\textbackslash{}\\%] -6\n",
       "\\item[33.3\\textbackslash{}\\%] -3\n",
       "\\item[50\\textbackslash{}\\%] 2\n",
       "\\item[66.7\\textbackslash{}\\%] 9\n",
       "\\item[75\\textbackslash{}\\%] 14\n",
       "\\item[90\\textbackslash{}\\%] 37\n",
       "\\item[99\\textbackslash{}\\%] 132\n",
       "\\item[99.9\\textbackslash{}\\%] 277.217999999999\n",
       "\\end{description*}\n"
      ],
      "text/markdown": [
       "0.1%\n",
       ":   -391%\n",
       ":   -2610%\n",
       ":   -1325%\n",
       ":   -633.3%\n",
       ":   -350%\n",
       ":   266.7%\n",
       ":   975%\n",
       ":   1490%\n",
       ":   3799%\n",
       ":   13299.9%\n",
       ":   277.217999999999\n",
       "\n"
      ],
      "text/plain": [
       "   0.1%      1%     10%     25%   33.3%     50%   66.7%     75%     90%     99% \n",
       "-39.000 -26.000 -13.000  -6.000  -3.000   2.000   9.000  14.000  37.000 132.000 \n",
       "  99.9% \n",
       "277.218 "
      ]
     },
     "metadata": {},
     "output_type": "display_data"
    },
    {
     "data": {
      "text/html": [
       "22"
      ],
      "text/latex": [
       "22"
      ],
      "text/markdown": [
       "22"
      ],
      "text/plain": [
       "[1] 22"
      ]
     },
     "metadata": {},
     "output_type": "display_data"
    },
    {
     "data": {
      "image/png": "[encoded data removed]",
      "text/plain": [
       "Plot with title “Histogram of airlines.hex$ArrDelay”"
      ]
     },
     "metadata": {
      "image/png": {
       "height": 420,
       "width": 420
      }
     },
     "output_type": "display_data"
    }
   ],
   "source": [
    "# View quantiles and histograms\n",
    "# high_na_columns = h2o.ignoreColumns(data = airlines.hex)\n",
    "quantile(x = airlines.hex$ArrDelay, na.rm = TRUE)\n",
    "h2o.hist(airlines.hex$ArrDelay)\n",
    "\n",
    "# Find number of flights by airport\n",
    "originFlights = h2o.group_by(data = airlines.hex, by =\"Origin\", nrow(\"Origin\"),gb.control=list(na.methods=\"rm\"))\n",
    "originFlights.R = as.data.frame(originFlights)\n",
    "\n",
    "# Find number of flights per month\n",
    "flightsByMonth = h2o.group_by(data = airlines.hex, by= \"Month\", nrow(\"Month\"),gb.control=list(na.methods=\"rm\"))\n",
    "flightsByMonth.R = as.data.frame(flightsByMonth)\n",
    "\n",
    "# Find months with the highest cancellation ratio\n",
    "which(colnames(airlines.hex)==\"Cancelled\")\n",
    "cancellationsByMonth = h2o.group_by(data = airlines.hex, by = \"Month\", sum(\"Cancelled\"),gb.control=list(na.methods=\"rm\"))\n",
    "cancellation_rate = cancellationsByMonth$sum_Cancelled/flightsByMonth$nrow\n",
    "rates_table = h2o.cbind(flightsByMonth$Month,cancellation_rate)\n",
    "rates_table.R = as.data.frame(rates_table)"
   ]
  },
  {
   "cell_type": "code",
   "execution_count": 16,
   "id": "nearby-schema",
   "metadata": {},
   "outputs": [
    {
     "data": {
      "text/plain": [
       "  Cancelled Count\n",
       "1         0 36497\n",
       "2         1   937\n",
       "\n",
       "[2 rows x 2 columns] "
      ]
     },
     "metadata": {},
     "output_type": "display_data"
    },
    {
     "data": {
      "text/plain": [
       "  Cancelled Count\n",
       "1         0  6395\n",
       "2         1   149\n",
       "\n",
       "[2 rows x 2 columns] "
      ]
     },
     "metadata": {},
     "output_type": "display_data"
    },
    {
     "name": "stdout",
     "output_type": "stream",
     "text": [
      "  |======================================================================| 100%\n",
      "Model Details:\n",
      "==============\n",
      "\n",
      "H2OBinomialModel: glm\n",
      "Model Key:  GLM_model_R_1625720099222_11 \n",
      "GLM Model: summary\n",
      "    family  link                                regularization\n",
      "1 binomial logit Elastic Net (alpha = 0.5, lambda = 1.526E-4 )\n",
      "  number_of_predictors_total number_of_active_predictors number_of_iterations\n",
      "1                        283                         179                    6\n",
      "    training_frame\n",
      "1 RTMP_sid_b6a4_29\n",
      "\n",
      "H2OBinomialMetrics: glm\n",
      "** Reported on training data. **\n",
      "\n",
      "MSE:  0.2137142\n",
      "RMSE:  0.4622924\n",
      "LogLoss:  0.6161864\n",
      "Mean Per-Class Error:  0.3819593\n",
      "AUC:  0.7191008\n",
      "AUCPR:  0.7298511\n",
      "Gini:  0.4382017\n",
      "R^2:  0.1428976\n",
      "Residual Deviance:  46132.65\n",
      "AIC:  46492.65\n",
      "\n",
      "Confusion Matrix (vertical: actual; across: predicted) for F1-optimal threshold:\n",
      "         NO   YES    Error          Rate\n",
      "NO     6237 11522 0.648798  =11522/17759\n",
      "YES    2265 17410 0.115121   =2265/19675\n",
      "Totals 8502 28932 0.368302  =13787/37434\n",
      "\n",
      "Maximum Metrics: Maximum metrics at their respective thresholds\n",
      "                        metric threshold        value idx\n",
      "1                       max f1  0.385134     0.716358 279\n",
      "2                       max f2  0.117324     0.847532 386\n",
      "3                 max f0point5  0.551866     0.679907 183\n",
      "4                 max accuracy  0.505592     0.661778 210\n",
      "5                max precision  0.974334     1.000000   0\n",
      "6                   max recall  0.059014     1.000000 398\n",
      "7              max specificity  0.974334     1.000000   0\n",
      "8             max absolute_mcc  0.536072     0.321235 192\n",
      "9   max min_per_class_accuracy  0.528589     0.659924 196\n",
      "10 max mean_per_class_accuracy  0.536072     0.660809 192\n",
      "11                     max tns  0.974334 17759.000000   0\n",
      "12                     max fns  0.974334 19668.000000   0\n",
      "13                     max fps  0.048176 17759.000000 399\n",
      "14                     max tps  0.059014 19675.000000 398\n",
      "15                     max tnr  0.974334     1.000000   0\n",
      "16                     max fnr  0.974334     0.999644   0\n",
      "17                     max fpr  0.048176     1.000000 399\n",
      "18                     max tpr  0.059014     1.000000 398\n",
      "\n",
      "Gains/Lift Table: Extract with `h2o.gainsLift(<model>, <data>)` or `h2o.gainsLift(<model>, valid=<T/F>, xval=<T/F>)`\n",
      "\n",
      "\n",
      "\n",
      "Scoring History: \n",
      "            timestamp   duration iterations negative_log_likelihood objective\n",
      "1 2021-07-08 05:16:36  0.000 sec          0             25898.21641   0.69184\n",
      "2 2021-07-08 05:16:36  0.094 sec          1             23166.64372   0.62381\n",
      "3 2021-07-08 05:16:36  0.106 sec          2             23095.83669   0.62264\n",
      "4 2021-07-08 05:16:36  0.117 sec          3             23093.36713   0.62262\n",
      "5 2021-07-08 05:16:36  0.294 sec          4             23066.14452   0.62227\n",
      "6 2021-07-08 05:16:36  0.307 sec          5             23067.15299   0.62227\n",
      "7 2021-07-08 05:16:36  0.406 sec          6             23066.32282   0.62227\n",
      "  training_rmse training_logloss training_r2 training_auc training_pr_auc\n",
      "1            NA               NA          NA           NA              NA\n",
      "2            NA               NA          NA           NA              NA\n",
      "3            NA               NA          NA           NA              NA\n",
      "4            NA               NA          NA           NA              NA\n",
      "5            NA               NA          NA           NA              NA\n",
      "6            NA               NA          NA           NA              NA\n",
      "7       0.46229          0.61619     0.14290      0.71910         0.72985\n",
      "  training_lift training_classification_error\n",
      "1            NA                            NA\n",
      "2            NA                            NA\n",
      "3            NA                            NA\n",
      "4            NA                            NA\n",
      "5            NA                            NA\n",
      "6            NA                            NA\n",
      "7       1.77578                       0.36830\n",
      "\n",
      "Variable Importances: (Extract with `h2o.varimp`) \n",
      "=================================================\n",
      "\n",
      "Variable Importances: \n",
      "          variable relative_importance scaled_importance percentage\n",
      "1       Origin.MDW            1.716249          1.000000   0.027826\n",
      "2       Origin.AUS            1.449685          0.844682   0.023504\n",
      "3       Origin.HNL            1.381561          0.804989   0.022400\n",
      "4       Origin.LIH            1.152515          0.671531   0.018686\n",
      "5 UniqueCarrier.WN            1.072498          0.624908   0.017389\n",
      "\n",
      "---\n",
      "            variable relative_importance scaled_importance percentage\n",
      "278       Origin.SWF            0.000000          0.000000   0.000000\n",
      "279       Origin.TRI            0.000000          0.000000   0.000000\n",
      "280       Origin.TUL            0.000000          0.000000   0.000000\n",
      "281       Origin.TYS            0.000000          0.000000   0.000000\n",
      "282       Origin.UCA            0.000000          0.000000   0.000000\n",
      "283 UniqueCarrier.CO            0.000000          0.000000   0.000000\n",
      "  |======================================================================| 100%\n"
     ]
    },
    {
     "data": {
      "text/plain": [
       "Length  Class   Mode \n",
       "     0   NULL   NULL "
      ]
     },
     "metadata": {},
     "output_type": "display_data"
    }
   ],
   "source": [
    "# Construct test and train sets using sampling \n",
    "airlines.split = h2o.splitFrame(data = airlines.hex,ratios = 0.85)\n",
    "airlines.train = airlines.split[[1]]\n",
    "airlines.test = airlines.split[[2]]\n",
    "\n",
    "# Display a summary using table-like functions\n",
    "h2o.table(airlines.train$Cancelled)\n",
    "h2o.table(airlines.test$Cancelled)\n",
    "\n",
    "# Set predictor and response variables\n",
    "Y = \"IsDepDelayed\"\n",
    "X = c(\"Origin\", \"Dest\", \"DayofMonth\", \"Year\", \"UniqueCarrier\", \"DayOfWeek\", \"Month\", \"DepTime\", \"ArrTime\", \"Distance\")\n",
    "\n",
    "# Define the data for the model and display theresults\n",
    "airlines.glm <- h2o.glm(training_frame=airlines.train, x=X, y=Y, family = \"binomial\", alpha = 0.5)\n",
    "\n",
    "# View model information: training statistics,performance, important variables\n",
    "summary(airlines.glm)\n",
    "\n",
    "# Predict using GLM model\n",
    "pred = h2o.predict(object = airlines.glm, newdata = airlines.test)\n",
    "# Look at summary of predictions: probability of TRUE class (p1)\n",
    "summary(pred$p1)"
   ]
  },
  {
   "cell_type": "code",
   "execution_count": 17,
   "id": "reflected-introduction",
   "metadata": {},
   "outputs": [
    {
     "name": "stdout",
     "output_type": "stream",
     "text": [
      "  |======================================================================| 100%\n",
      "  |======================================================================| 100%\n"
     ]
    }
   ],
   "source": [
    "# This step takes a few seconds bc we have to download the data from the internet...\n",
    "train_file <- \"https://h2o-public-test-data.s3.amazonaws.com/bigdata/laptop/mnist/train.csv.gz\"\n",
    "test_file <- \"https://h2o-public-test-data.s3.amazonaws.com/bigdata/laptop/mnist/test.csv.gz\"\n",
    "train <- h2o.importFile(train_file)\n",
    "test <- h2o.importFile(test_file)\n",
    "\n",
    "y <- \"C785\"  #response column: digits 0-9\n",
    "x <- setdiff(names(train), y)  #vector of predictor column names\n",
    "\n",
    "# Since the response is encoded as integers, we need to tell H2O that\n",
    "# the response is in fact a categorical/factor column.  Otherwise, it \n",
    "# will train a regression model instead of multiclass classification.\n",
    "train[,y] <- as.factor(train[,y])\n",
    "test[,y] <- as.factor(test[,y])"
   ]
  },
  {
   "cell_type": "code",
   "execution_count": 18,
   "id": "dress-scientist",
   "metadata": {},
   "outputs": [
    {
     "name": "stderr",
     "output_type": "stream",
     "text": [
      "Warning message in .h2o.processResponseWarnings(res):\n",
      "“Dropping bad and constant columns: [C86, C85, C729, C728, C646, C645, C169, C760, C561, C53, C11, C55, C10, C54, C57, C12, C56, C58, C17, C19, C18, C731, C730, C20, C22, C21, C24, C23, C26, C25, C28, C27, C702, C701, C29, C700, C1, C2, C784, C3, C783, C4, C782, C5, C781, C6, C142, C7, C141, C8, C9, C31, C30, C32, C759, C758, C757, C756, C755, C477, C113, C674, C112, C673, C672, C84, C83].\n",
      "”\n"
     ]
    },
    {
     "name": "stdout",
     "output_type": "stream",
     "text": [
      "  |======================================================================| 100%\n"
     ]
    }
   ],
   "source": [
    "dl_fit1 <- h2o.deeplearning(x = x,\n",
    "                            y = y,\n",
    "                            training_frame = train,\n",
    "                            model_id = \"dl_fit1\",\n",
    "                            hidden = c(20,20),\n",
    "                            seed = 1)"
   ]
  },
  {
   "cell_type": "code",
   "execution_count": 19,
   "id": "existing-marina",
   "metadata": {},
   "outputs": [
    {
     "name": "stdout",
     "output_type": "stream",
     "text": [
      "Model Details:\n",
      "==============\n",
      "\n",
      "H2OMultinomialModel: deeplearning\n",
      "Model Key:  dl_fit1 \n",
      "Status of Neuron Layers: predicting C785, 10-class classification, multinomial distribution, CrossEntropy loss, 14,990 weights/biases, 345.2 KB, 600,000 training samples, mini-batch size 1\n",
      "  layer units      type dropout       l1       l2 mean_rate rate_rms momentum\n",
      "1     1   717     Input  0.00 %       NA       NA        NA       NA       NA\n",
      "2     2    20 Rectifier  0.00 % 0.000000 0.000000  0.035974 0.080213 0.000000\n",
      "3     3    20 Rectifier  0.00 % 0.000000 0.000000  0.000164 0.000099 0.000000\n",
      "4     4    10   Softmax      NA 0.000000 0.000000  0.007348 0.043419 0.000000\n",
      "  mean_weight weight_rms mean_bias bias_rms\n",
      "1          NA         NA        NA       NA\n",
      "2    0.021861   0.113446  0.443450 0.102450\n",
      "3   -0.033933   0.188199  0.980310 0.058007\n",
      "4   -0.388990   1.135451 -0.246435 0.170216\n",
      "\n",
      "H2OMultinomialMetrics: deeplearning\n",
      "** Reported on training data. **\n",
      "** Metrics reported on temporary training frame with 9959 samples **\n",
      "\n",
      "Training Set Metrics: \n",
      "=====================\n",
      "\n",
      "MSE: (Extract with `h2o.mse`) 0.02880173\n",
      "RMSE: (Extract with `h2o.rmse`) 0.1697107\n",
      "Logloss: (Extract with `h2o.logloss`) 0.121218\n",
      "Mean Per-Class Error: 0.03400347\n",
      "AUC: (Extract with `h2o.auc`) NaN\n",
      "AUCPR: (Extract with `h2o.aucpr`) NaN\n",
      "Confusion Matrix: Extract with `h2o.confusionMatrix(<model>,train = TRUE)`)\n",
      "=========================================================================\n",
      "Confusion Matrix: Row labels: Actual class; Column labels: Predicted class\n",
      "         0    1   2    3   4   5    6   7   8   9  Error          Rate\n",
      "0      980    0   2    0   0   2    8   3   2   2 0.0190 =    19 / 999\n",
      "1        0 1077   5    4   0   2    1   5   4   1 0.0200 =  22 / 1,099\n",
      "2        3    0 953    7   5   2    2   6   5   1 0.0315 =    31 / 984\n",
      "3        2    0   9 1005   0   7    0   9   9   5 0.0392 =  41 / 1,046\n",
      "4        1    5   0    0 910   0    4   3   4  13 0.0319 =    30 / 940\n",
      "5        4    2   0   25   1 875    7   0   6   6 0.0551 =    51 / 926\n",
      "6        0    1   2    1   2   3 1009   0   3   0 0.0118 =  12 / 1,021\n",
      "7        1    3   5    9   3   0    0 951   0  16 0.0374 =    37 / 988\n",
      "8        5    6   3   18   1   7    5   2 922   7 0.0553 =    54 / 976\n",
      "9        2    2   0    5  16   1    1   6   5 942 0.0388 =    38 / 980\n",
      "Totals 998 1096 979 1074 938 899 1037 985 960 993 0.0336 = 335 / 9,959\n",
      "\n",
      "Hit Ratio Table: Extract with `h2o.hit_ratio_table(<model>,train = TRUE)`\n",
      "=======================================================================\n",
      "Top-10 Hit Ratios: \n",
      "    k hit_ratio\n",
      "1   1  0.966362\n",
      "2   2  0.990160\n",
      "3   3  0.996486\n",
      "4   4  0.998494\n",
      "5   5  0.999096\n",
      "6   6  0.999297\n",
      "7   7  0.999498\n",
      "8   8  0.999799\n",
      "9   9  0.999799\n",
      "10 10  1.000000\n",
      "\n",
      "\n",
      "\n",
      "\n",
      "\n",
      "\n",
      "\n",
      "Scoring History: \n",
      "             timestamp          duration training_speed   epochs iterations\n",
      "1  2021-07-08 05:19:23         0.000 sec             NA  0.00000          0\n",
      "2  2021-07-08 05:19:42        21.435 sec   3354 obs/sec  1.00000          1\n",
      "3  2021-07-08 05:20:00        38.608 sec   3500 obs/sec  2.00000          2\n",
      "4  2021-07-08 05:20:17        55.279 sec   3578 obs/sec  3.00000          3\n",
      "5  2021-07-08 05:20:33  1 min 11.074 sec   3658 obs/sec  4.00000          4\n",
      "6  2021-07-08 05:20:48  1 min 26.303 sec   3730 obs/sec  5.00000          5\n",
      "7  2021-07-08 05:21:03  1 min 41.595 sec   3778 obs/sec  6.00000          6\n",
      "8  2021-07-08 05:23:09  3 min 48.074 sec   1900 obs/sec  7.00000          7\n",
      "9  2021-07-08 05:23:23  4 min  1.298 sec   2052 obs/sec  8.00000          8\n",
      "10 2021-07-08 05:23:37  4 min 15.600 sec   2180 obs/sec  9.00000          9\n",
      "11 2021-07-08 05:23:50  4 min 28.622 sec   2307 obs/sec 10.00000         10\n",
      "         samples training_rmse training_logloss training_r2\n",
      "1       0.000000            NA               NA          NA\n",
      "2   60000.000000       0.24868          0.27204     0.99257\n",
      "3  120000.000000       0.22155          0.20728     0.99410\n",
      "4  180000.000000       0.21201          0.19399     0.99460\n",
      "5  240000.000000       0.19590          0.16132     0.99539\n",
      "6  300000.000000       0.19323          0.15398     0.99551\n",
      "7  360000.000000       0.18238          0.13863     0.99600\n",
      "8  420000.000000       0.17729          0.13156     0.99622\n",
      "9  480000.000000       0.17721          0.13205     0.99623\n",
      "10 540000.000000       0.17409          0.12664     0.99636\n",
      "11 600000.000000       0.16971          0.12122     0.99654\n",
      "   training_classification_error training_auc training_pr_auc\n",
      "1                             NA           NA              NA\n",
      "2                        0.06778           NA              NA\n",
      "3                        0.05563           NA              NA\n",
      "4                        0.05191           NA              NA\n",
      "5                        0.04318           NA              NA\n",
      "6                        0.04207           NA              NA\n",
      "7                        0.03786           NA              NA\n",
      "8                        0.03615           NA              NA\n",
      "9                        0.03645           NA              NA\n",
      "10                       0.03575           NA              NA\n",
      "11                       0.03364           NA              NA\n",
      "\n",
      "Variable Importances: (Extract with `h2o.varimp`) \n",
      "=================================================\n",
      "\n",
      "Variable Importances: \n",
      "  variable relative_importance scaled_importance percentage\n",
      "1     C449            1.000000          1.000000   0.002432\n",
      "2      C14            0.994228          0.994228   0.002418\n",
      "3     C394            0.958802          0.958802   0.002332\n",
      "4      C16            0.940020          0.940020   0.002286\n",
      "5     C517            0.933007          0.933007   0.002269\n",
      "\n",
      "---\n",
      "    variable relative_importance scaled_importance percentage\n",
      "712     C666            0.290066          0.290066   0.000705\n",
      "713     C693            0.289107          0.289107   0.000703\n",
      "714     C119            0.278070          0.278070   0.000676\n",
      "715     C594            0.276249          0.276249   0.000672\n",
      "716     C150            0.275257          0.275257   0.000669\n",
      "717     C694            0.268653          0.268653   0.000653\n"
     ]
    }
   ],
   "source": [
    "summary(dl_fit1)"
   ]
  },
  {
   "cell_type": "code",
   "execution_count": null,
   "id": "serious-radar",
   "metadata": {},
   "outputs": [],
   "source": []
  }
 ],
 "metadata": {
  "kernelspec": {
   "display_name": "R",
   "language": "R",
   "name": "ir"
  },
  "language_info": {
   "codemirror_mode": "r",
   "file_extension": ".r",
   "mimetype": "text/x-r-source",
   "name": "R",
   "pygments_lexer": "r",
   "version": "3.6.3"
  }
 },
 "nbformat": 4,
 "nbformat_minor": 5
}
